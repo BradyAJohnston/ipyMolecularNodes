{
 "cells": [
  {
   "cell_type": "code",
   "execution_count": null,
   "metadata": {},
   "outputs": [],
   "source": [
    "\n",
    "import sys\n",
    "import os\n",
    "\n",
    "sys.stdout = open(os.devnull, 'w')\n",
    "sys.stderr = open(os.devnull, 'w')\n",
    "\n",
    "\n",
    "def render_image():\n",
    "    # Render\n",
    "    path = \"test.png\"\n",
    "    bpy.context.scene.render.resolution_x = 1000\n",
    "    bpy.context.scene.render.resolution_y = 500\n",
    "    bpy.context.scene.render.image_settings.file_format = \"PNG\"\n",
    "    bpy.context.scene.render.filepath = path\n",
    "    bpy.ops.render.render(write_still=True)\n",
    "    bpy.data.images[\"Render Result\"].save_render(filepath=bpy.context.scene.render.filepath)\n",
    "\n",
    "    display(Image(filename=path))\n"
   ]
  },
  {
   "cell_type": "code",
   "execution_count": null,
   "metadata": {},
   "outputs": [],
   "source": [
    "import bpy\n",
    "from IPython.display import display, Image\n",
    "\n",
    "bpy.ops.object.select_all(action=\"DESELECT\")\n",
    "bpy.ops.object.select_by_type(type=\"MESH\")\n",
    "bpy.ops.object.delete()\n",
    "\n",
    "\n",
    "# Camera\n",
    "camera = bpy.data.objects[\"Camera\"]\n",
    "camera.location = (5, -3, 4)\n",
    "camera.data.dof.use_dof = True\n",
    "camera.data.dof.focus_distance = 4\n",
    "camera.data.dof.aperture_fstop = 4\n",
    "\n",
    "\n",
    "\n",
    "import molecularnodes as mn\n",
    "molecule = mn.load.molecule_rcsb(\"7TYG\", starting_style=\"cartoon\", center_molecule=True)\n",
    "molecule.location = (0, 2, 1)\n",
    "scale = 4\n",
    "molecule.scale = (scale,scale,scale)\n",
    "\n",
    "render_image()"
   ]
  },
  {
   "cell_type": "code",
   "execution_count": null,
   "metadata": {},
   "outputs": [],
   "source": [
    "molecule = mn.load.molecule_rcsb(\"7TYG\", starting_style=\"cartoon\", center_molecule=True)\n",
    "molecule.location = (0, 2, 1)\n",
    "scale = 4\n",
    "molecule.scale = (scale,scale,scale)\n",
    "\n",
    "render_image()"
   ]
  },
  {
   "cell_type": "code",
   "execution_count": null,
   "metadata": {},
   "outputs": [],
   "source": [
    "molecule = mn.load.molecule_rcsb(\"7TYG\", starting_style=\"cartoon\", center_molecule=True)\n",
    "molecule.location = (0, 2, 1)\n",
    "scale = 8\n",
    "molecule.scale = (scale,scale,scale)\n",
    "\n",
    "render_image()"
   ]
  },
  {
   "cell_type": "code",
   "execution_count": null,
   "metadata": {},
   "outputs": [],
   "source": [
    "molecule.location.z += 0.5\n",
    "render_image()"
   ]
  },
  {
   "cell_type": "code",
   "execution_count": null,
   "metadata": {},
   "outputs": [],
   "source": []
  }
 ],
 "metadata": {
  "kernelspec": {
   "display_name": ".venv",
   "language": "python",
   "name": "python3"
  },
  "language_info": {
   "codemirror_mode": {
    "name": "ipython",
    "version": 3
   },
   "file_extension": ".py",
   "mimetype": "text/x-python",
   "name": "python",
   "nbconvert_exporter": "python",
   "pygments_lexer": "ipython3",
   "version": "3.10.13"
  },
  "orig_nbformat": 4
 },
 "nbformat": 4,
 "nbformat_minor": 2
}
